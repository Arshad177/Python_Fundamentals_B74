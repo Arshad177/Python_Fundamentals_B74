{
 "cells": [
  {
   "cell_type": "code",
   "execution_count": 14,
   "id": "6be1e19f",
   "metadata": {},
   "outputs": [
    {
     "name": "stdout",
     "output_type": "stream",
     "text": [
      "arshad\n",
      "hussain\n"
     ]
    }
   ],
   "source": [
    "first_name ='arshad'\n",
    "print(first_name)\n",
    "\n",
    "last_name='hussain'\n",
    "print(last_name)\n"
   ]
  },
  {
   "cell_type": "code",
   "execution_count": 18,
   "id": "a0e894aa",
   "metadata": {},
   "outputs": [
    {
     "name": "stdout",
     "output_type": "stream",
     "text": [
      "arshad hussain\n"
     ]
    }
   ],
   "source": [
    "full_name= f\"{first_name} {last_name}\"\n",
    "print(full_name)"
   ]
  },
  {
   "cell_type": "code",
   "execution_count": 41,
   "id": "b7611a2d",
   "metadata": {},
   "outputs": [
    {
     "name": "stdout",
     "output_type": "stream",
     "text": [
      "My full name is Arshad Hussain\n"
     ]
    }
   ],
   "source": [
    "message=f\"My full name is {full_name.title()}\"\n",
    "print(message)"
   ]
  },
  {
   "cell_type": "code",
   "execution_count": 39,
   "id": "f9cbeade",
   "metadata": {},
   "outputs": [
    {
     "name": "stdout",
     "output_type": "stream",
     "text": [
      "favourite programing languares:\n",
      "Oracle\n",
      ".Net\n",
      "jawa\n",
      "python\n"
     ]
    }
   ],
   "source": [
    "print(\"favourite programing languares:\\nOracle\\n.Net\\njawa\\npython\")\n"
   ]
  },
  {
   "cell_type": "code",
   "execution_count": 40,
   "id": "c5e191f8",
   "metadata": {},
   "outputs": [
    {
     "name": "stdout",
     "output_type": "stream",
     "text": [
      "favourite programing languares:\n",
      "\tOracle\n",
      "\t.Net\n",
      "\tjawa\n",
      "\tpython\n"
     ]
    }
   ],
   "source": [
    "print(\"favourite programing languares:\\n\\tOracle\\n\\t.Net\\n\\tjawa\\n\\tpython\")"
   ]
  },
  {
   "cell_type": "code",
   "execution_count": null,
   "id": "ea7bf093",
   "metadata": {},
   "outputs": [],
   "source": []
  }
 ],
 "metadata": {
  "kernelspec": {
   "display_name": "Python 3",
   "language": "python",
   "name": "python3"
  },
  "language_info": {
   "codemirror_mode": {
    "name": "ipython",
    "version": 3
   },
   "file_extension": ".py",
   "mimetype": "text/x-python",
   "name": "python",
   "nbconvert_exporter": "python",
   "pygments_lexer": "ipython3",
   "version": "3.8.8"
  }
 },
 "nbformat": 4,
 "nbformat_minor": 5
}
